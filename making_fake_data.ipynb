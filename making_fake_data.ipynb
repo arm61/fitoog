{
 "cells": [
  {
   "cell_type": "code",
   "execution_count": 1,
   "metadata": {},
   "outputs": [],
   "source": [
    "import pandas as pd"
   ]
  },
  {
   "cell_type": "code",
   "execution_count": 2,
   "metadata": {},
   "outputs": [],
   "source": [
    "data = pd.read_csv('cta_fake.fit', delim_whitespace=True, header=None)"
   ]
  },
  {
   "cell_type": "code",
   "execution_count": 3,
   "metadata": {},
   "outputs": [
    {
     "data": {
      "text/html": [
       "<div>\n",
       "<style scoped>\n",
       "    .dataframe tbody tr th:only-of-type {\n",
       "        vertical-align: middle;\n",
       "    }\n",
       "\n",
       "    .dataframe tbody tr th {\n",
       "        vertical-align: top;\n",
       "    }\n",
       "\n",
       "    .dataframe thead th {\n",
       "        text-align: right;\n",
       "    }\n",
       "</style>\n",
       "<table border=\"1\" class=\"dataframe\">\n",
       "  <thead>\n",
       "    <tr style=\"text-align: right;\">\n",
       "      <th></th>\n",
       "      <th>0</th>\n",
       "      <th>1</th>\n",
       "      <th>2</th>\n",
       "      <th>3</th>\n",
       "      <th>4</th>\n",
       "      <th>5</th>\n",
       "    </tr>\n",
       "  </thead>\n",
       "  <tbody>\n",
       "    <tr>\n",
       "      <th>0</th>\n",
       "      <td>0</td>\n",
       "      <td>N</td>\n",
       "      <td>-4.49830</td>\n",
       "      <td>-0.90118</td>\n",
       "      <td>4.49948</td>\n",
       "      <td>100.0</td>\n",
       "    </tr>\n",
       "    <tr>\n",
       "      <th>1</th>\n",
       "      <td>1</td>\n",
       "      <td>C</td>\n",
       "      <td>-1.80563</td>\n",
       "      <td>0.04058</td>\n",
       "      <td>1.79780</td>\n",
       "      <td>20.0</td>\n",
       "    </tr>\n",
       "    <tr>\n",
       "      <th>2</th>\n",
       "      <td>2</td>\n",
       "      <td>C</td>\n",
       "      <td>0.82445</td>\n",
       "      <td>-0.78343</td>\n",
       "      <td>-0.93130</td>\n",
       "      <td>20.0</td>\n",
       "    </tr>\n",
       "    <tr>\n",
       "      <th>3</th>\n",
       "      <td>3</td>\n",
       "      <td>C</td>\n",
       "      <td>3.76339</td>\n",
       "      <td>-0.09161</td>\n",
       "      <td>-3.36093</td>\n",
       "      <td>20.0</td>\n",
       "    </tr>\n",
       "  </tbody>\n",
       "</table>\n",
       "</div>"
      ],
      "text/plain": [
       "   0  1        2        3        4      5\n",
       "0  0  N -4.49830 -0.90118  4.49948  100.0\n",
       "1  1  C -1.80563  0.04058  1.79780   20.0\n",
       "2  2  C  0.82445 -0.78343 -0.93130   20.0\n",
       "3  3  C  3.76339 -0.09161 -3.36093   20.0"
      ]
     },
     "execution_count": 3,
     "metadata": {},
     "output_type": "execute_result"
    }
   ],
   "source": [
    "data"
   ]
  },
  {
   "cell_type": "code",
   "execution_count": 4,
   "metadata": {},
   "outputs": [],
   "source": [
    "data[2] = data[2] - data[2].min()\n",
    "data[3] = data[3] - data[3].min()\n",
    "data[4] = data[4] - data[4].min()"
   ]
  },
  {
   "cell_type": "code",
   "execution_count": 5,
   "metadata": {},
   "outputs": [
    {
     "data": {
      "text/html": [
       "<div>\n",
       "<style scoped>\n",
       "    .dataframe tbody tr th:only-of-type {\n",
       "        vertical-align: middle;\n",
       "    }\n",
       "\n",
       "    .dataframe tbody tr th {\n",
       "        vertical-align: top;\n",
       "    }\n",
       "\n",
       "    .dataframe thead th {\n",
       "        text-align: right;\n",
       "    }\n",
       "</style>\n",
       "<table border=\"1\" class=\"dataframe\">\n",
       "  <thead>\n",
       "    <tr style=\"text-align: right;\">\n",
       "      <th></th>\n",
       "      <th>0</th>\n",
       "      <th>1</th>\n",
       "      <th>2</th>\n",
       "      <th>3</th>\n",
       "      <th>4</th>\n",
       "      <th>5</th>\n",
       "    </tr>\n",
       "  </thead>\n",
       "  <tbody>\n",
       "    <tr>\n",
       "      <th>0</th>\n",
       "      <td>0</td>\n",
       "      <td>N</td>\n",
       "      <td>0.00000</td>\n",
       "      <td>0.00000</td>\n",
       "      <td>7.86041</td>\n",
       "      <td>100.0</td>\n",
       "    </tr>\n",
       "    <tr>\n",
       "      <th>1</th>\n",
       "      <td>1</td>\n",
       "      <td>C</td>\n",
       "      <td>2.69267</td>\n",
       "      <td>0.94176</td>\n",
       "      <td>5.15873</td>\n",
       "      <td>20.0</td>\n",
       "    </tr>\n",
       "    <tr>\n",
       "      <th>2</th>\n",
       "      <td>2</td>\n",
       "      <td>C</td>\n",
       "      <td>5.32275</td>\n",
       "      <td>0.11775</td>\n",
       "      <td>2.42963</td>\n",
       "      <td>20.0</td>\n",
       "    </tr>\n",
       "    <tr>\n",
       "      <th>3</th>\n",
       "      <td>3</td>\n",
       "      <td>C</td>\n",
       "      <td>8.26169</td>\n",
       "      <td>0.80957</td>\n",
       "      <td>0.00000</td>\n",
       "      <td>20.0</td>\n",
       "    </tr>\n",
       "  </tbody>\n",
       "</table>\n",
       "</div>"
      ],
      "text/plain": [
       "   0  1        2        3        4      5\n",
       "0  0  N  0.00000  0.00000  7.86041  100.0\n",
       "1  1  C  2.69267  0.94176  5.15873   20.0\n",
       "2  2  C  5.32275  0.11775  2.42963   20.0\n",
       "3  3  C  8.26169  0.80957  0.00000   20.0"
      ]
     },
     "execution_count": 5,
     "metadata": {},
     "output_type": "execute_result"
    }
   ],
   "source": [
    "data"
   ]
  },
  {
   "cell_type": "code",
   "execution_count": 6,
   "metadata": {},
   "outputs": [],
   "source": [
    "import numpy as np\n",
    "\n",
    "def rotation(a, b, c, d, e, f, data):\n",
    "    l = np.sin(a) * np.cos(b)\n",
    "    m = np.sin(a) * np.sin(b)\n",
    "    n = np.cos(a)\n",
    "    k = c\n",
    "    rm = np.zeros((3,3))\n",
    "    rm[0][0] = l * l + (m * m + n * n) * np.cos(k)\n",
    "    rm[0][1] = l * m * (1 - np.cos(k)) - n * np.sin(k)\n",
    "    rm[0][2] = n * l * (1 - np.cos(k)) + m * np.sin(k)\n",
    "    rm[1][0] = l * m * (1 - np.cos(k)) + n * np.sin(k)\n",
    "    rm[1][1] = m * m + (n * n + l * l) * np.cos(k)\n",
    "    rm[1][2] = m * n * (1 - np.cos(k)) - l * np.sin(k)\n",
    "    rm[2][0] = n * l * (1 - np.cos(k)) - m * np.sin(k)\n",
    "    rm[2][1] = m * n * (1 - np.cos(k)) + l * np.sin(k)\n",
    "    rm[2][2] = n * n + (l * l + m * m) * np.cos(k)\n",
    "    x = rm[0][0] * data[2] + rm[0][1] * data[3] + rm[0][2] * data[4] + d\n",
    "    y = rm[1][0] * data[2] + rm[1][1] * data[3] + rm[1][2] * data[4] + e \n",
    "    z = rm[2][0] * data[2] + rm[2][1] * data[3] + rm[2][2] * data[4] + f\n",
    "    return x, y, z"
   ]
  },
  {
   "cell_type": "code",
   "execution_count": 7,
   "metadata": {},
   "outputs": [],
   "source": [
    "file_open = open('output.xyz', 'w')\n",
    "file_open.write('16\\n#comment\\n')\n",
    "d = [0, 0, 0, 20]\n",
    "e = [0, 20, 20, 20]\n",
    "f = [0, 0, 20, 20]\n",
    "\n",
    "for l, i in enumerate(np.linspace(0, 2 * np.pi, 4)):\n",
    "    k = rotation(np.pi, np.pi, i, d[l], e[l], f[l], data)\n",
    "    for j in range(0, 4):\n",
    "        file_open.write('{} {} {} {}\\n'.format(data[1][j], k[0][j], k[1][j], k[2][j]))\n",
    "file_open.close()"
   ]
  },
  {
   "cell_type": "code",
   "execution_count": 44,
   "metadata": {},
   "outputs": [
    {
     "data": {
      "text/plain": [
       "array([0.        , 2.0943951 , 4.1887902 , 6.28318531])"
      ]
     },
     "execution_count": 44,
     "metadata": {},
     "output_type": "execute_result"
    }
   ],
   "source": [
    "np.linspace(0, 2 * np.pi, 4)"
   ]
  },
  {
   "cell_type": "code",
   "execution_count": 8,
   "metadata": {},
   "outputs": [],
   "source": [
    "data2 = pd.read_csv('output.xyz', delim_whitespace=True, header=None, skiprows=2)"
   ]
  },
  {
   "cell_type": "code",
   "execution_count": 9,
   "metadata": {},
   "outputs": [],
   "source": [
    "data2[1] = data2[1] - data2[1].min()\n",
    "data2[2] = data2[2] - data2[2].min()\n",
    "data2[3] = data2[3] - data2[3].min()"
   ]
  },
  {
   "cell_type": "code",
   "execution_count": 10,
   "metadata": {},
   "outputs": [
    {
     "data": {
      "text/html": [
       "<div>\n",
       "<style scoped>\n",
       "    .dataframe tbody tr th:only-of-type {\n",
       "        vertical-align: middle;\n",
       "    }\n",
       "\n",
       "    .dataframe tbody tr th {\n",
       "        vertical-align: top;\n",
       "    }\n",
       "\n",
       "    .dataframe thead th {\n",
       "        text-align: right;\n",
       "    }\n",
       "</style>\n",
       "<table border=\"1\" class=\"dataframe\">\n",
       "  <thead>\n",
       "    <tr style=\"text-align: right;\">\n",
       "      <th></th>\n",
       "      <th>0</th>\n",
       "      <th>1</th>\n",
       "      <th>2</th>\n",
       "      <th>3</th>\n",
       "    </tr>\n",
       "  </thead>\n",
       "  <tbody>\n",
       "    <tr>\n",
       "      <th>0</th>\n",
       "      <td>N</td>\n",
       "      <td>4.831953</td>\n",
       "      <td>0.000000</td>\n",
       "      <td>7.860410e+00</td>\n",
       "    </tr>\n",
       "    <tr>\n",
       "      <th>1</th>\n",
       "      <td>C</td>\n",
       "      <td>7.524623</td>\n",
       "      <td>0.941760</td>\n",
       "      <td>5.158730e+00</td>\n",
       "    </tr>\n",
       "    <tr>\n",
       "      <th>2</th>\n",
       "      <td>C</td>\n",
       "      <td>10.154703</td>\n",
       "      <td>0.117750</td>\n",
       "      <td>2.429630e+00</td>\n",
       "    </tr>\n",
       "    <tr>\n",
       "      <th>3</th>\n",
       "      <td>C</td>\n",
       "      <td>13.093643</td>\n",
       "      <td>0.809570</td>\n",
       "      <td>0.000000e+00</td>\n",
       "    </tr>\n",
       "    <tr>\n",
       "      <th>4</th>\n",
       "      <td>N</td>\n",
       "      <td>4.831953</td>\n",
       "      <td>20.000000</td>\n",
       "      <td>7.860410e+00</td>\n",
       "    </tr>\n",
       "    <tr>\n",
       "      <th>5</th>\n",
       "      <td>C</td>\n",
       "      <td>4.301206</td>\n",
       "      <td>17.197199</td>\n",
       "      <td>5.158730e+00</td>\n",
       "    </tr>\n",
       "    <tr>\n",
       "      <th>6</th>\n",
       "      <td>C</td>\n",
       "      <td>2.272553</td>\n",
       "      <td>15.331488</td>\n",
       "      <td>2.429630e+00</td>\n",
       "    </tr>\n",
       "    <tr>\n",
       "      <th>7</th>\n",
       "      <td>C</td>\n",
       "      <td>1.402216</td>\n",
       "      <td>12.440382</td>\n",
       "      <td>1.431787e-15</td>\n",
       "    </tr>\n",
       "    <tr>\n",
       "      <th>8</th>\n",
       "      <td>N</td>\n",
       "      <td>4.831953</td>\n",
       "      <td>20.000000</td>\n",
       "      <td>2.786041e+01</td>\n",
       "    </tr>\n",
       "    <tr>\n",
       "      <th>9</th>\n",
       "      <td>C</td>\n",
       "      <td>2.670030</td>\n",
       "      <td>21.861041</td>\n",
       "      <td>2.515873e+01</td>\n",
       "    </tr>\n",
       "    <tr>\n",
       "      <th>10</th>\n",
       "      <td>C</td>\n",
       "      <td>2.068604</td>\n",
       "      <td>24.550762</td>\n",
       "      <td>2.242963e+01</td>\n",
       "    </tr>\n",
       "    <tr>\n",
       "      <th>11</th>\n",
       "      <td>C</td>\n",
       "      <td>0.000000</td>\n",
       "      <td>26.750048</td>\n",
       "      <td>2.000000e+01</td>\n",
       "    </tr>\n",
       "    <tr>\n",
       "      <th>12</th>\n",
       "      <td>N</td>\n",
       "      <td>24.831953</td>\n",
       "      <td>20.000000</td>\n",
       "      <td>2.786041e+01</td>\n",
       "    </tr>\n",
       "    <tr>\n",
       "      <th>13</th>\n",
       "      <td>C</td>\n",
       "      <td>27.524623</td>\n",
       "      <td>20.941760</td>\n",
       "      <td>2.515873e+01</td>\n",
       "    </tr>\n",
       "    <tr>\n",
       "      <th>14</th>\n",
       "      <td>C</td>\n",
       "      <td>30.154703</td>\n",
       "      <td>20.117750</td>\n",
       "      <td>2.242963e+01</td>\n",
       "    </tr>\n",
       "    <tr>\n",
       "      <th>15</th>\n",
       "      <td>C</td>\n",
       "      <td>33.093643</td>\n",
       "      <td>20.809570</td>\n",
       "      <td>2.000000e+01</td>\n",
       "    </tr>\n",
       "  </tbody>\n",
       "</table>\n",
       "</div>"
      ],
      "text/plain": [
       "    0          1          2             3\n",
       "0   N   4.831953   0.000000  7.860410e+00\n",
       "1   C   7.524623   0.941760  5.158730e+00\n",
       "2   C  10.154703   0.117750  2.429630e+00\n",
       "3   C  13.093643   0.809570  0.000000e+00\n",
       "4   N   4.831953  20.000000  7.860410e+00\n",
       "5   C   4.301206  17.197199  5.158730e+00\n",
       "6   C   2.272553  15.331488  2.429630e+00\n",
       "7   C   1.402216  12.440382  1.431787e-15\n",
       "8   N   4.831953  20.000000  2.786041e+01\n",
       "9   C   2.670030  21.861041  2.515873e+01\n",
       "10  C   2.068604  24.550762  2.242963e+01\n",
       "11  C   0.000000  26.750048  2.000000e+01\n",
       "12  N  24.831953  20.000000  2.786041e+01\n",
       "13  C  27.524623  20.941760  2.515873e+01\n",
       "14  C  30.154703  20.117750  2.242963e+01\n",
       "15  C  33.093643  20.809570  2.000000e+01"
      ]
     },
     "execution_count": 10,
     "metadata": {},
     "output_type": "execute_result"
    }
   ],
   "source": [
    "data2"
   ]
  },
  {
   "cell_type": "code",
   "execution_count": 28,
   "metadata": {},
   "outputs": [
    {
     "data": {
      "text/plain": [
       "array([0.1       , 0.10909091, 0.11818182, 0.12727273, 0.13636364,\n",
       "       0.14545455, 0.15454545, 0.16363636, 0.17272727, 0.18181818,\n",
       "       0.19090909, 0.2       , 0.20909091, 0.21818182, 0.22727273,\n",
       "       0.23636364, 0.24545455, 0.25454545, 0.26363636, 0.27272727,\n",
       "       0.28181818, 0.29090909, 0.3       , 0.30909091, 0.31818182,\n",
       "       0.32727273, 0.33636364, 0.34545455, 0.35454545, 0.36363636,\n",
       "       0.37272727, 0.38181818, 0.39090909, 0.4       , 0.40909091,\n",
       "       0.41818182, 0.42727273, 0.43636364, 0.44545455, 0.45454545,\n",
       "       0.46363636, 0.47272727, 0.48181818, 0.49090909, 0.5       ,\n",
       "       0.50909091, 0.51818182, 0.52727273, 0.53636364, 0.54545455,\n",
       "       0.55454545, 0.56363636, 0.57272727, 0.58181818, 0.59090909,\n",
       "       0.6       , 0.60909091, 0.61818182, 0.62727273, 0.63636364,\n",
       "       0.64545455, 0.65454545, 0.66363636, 0.67272727, 0.68181818,\n",
       "       0.69090909, 0.7       , 0.70909091, 0.71818182, 0.72727273,\n",
       "       0.73636364, 0.74545455, 0.75454545, 0.76363636, 0.77272727,\n",
       "       0.78181818, 0.79090909, 0.8       , 0.80909091, 0.81818182,\n",
       "       0.82727273, 0.83636364, 0.84545455, 0.85454545, 0.86363636,\n",
       "       0.87272727, 0.88181818, 0.89090909, 0.9       , 0.90909091,\n",
       "       0.91818182, 0.92727273, 0.93636364, 0.94545455, 0.95454545,\n",
       "       0.96363636, 0.97272727, 0.98181818, 0.99090909, 1.        ])"
      ]
     },
     "execution_count": 28,
     "metadata": {},
     "output_type": "execute_result"
    }
   ],
   "source": [
    "qs = np.linspace(0.1, 1, 100)\n",
    "qs"
   ]
  },
  {
   "cell_type": "code",
   "execution_count": 29,
   "metadata": {
    "scrolled": true
   },
   "outputs": [
    {
     "name": "stdout",
     "output_type": "stream",
     "text": [
      "N\n"
     ]
    }
   ],
   "source": [
    "print(data2[0][0])"
   ]
  },
  {
   "cell_type": "code",
   "execution_count": 30,
   "metadata": {},
   "outputs": [],
   "source": [
    "intensity = np.zeros_like(qs)\n",
    "for e, q in enumerate(qs):\n",
    "    for m in range(0, data2[1].size-1):\n",
    "        for n in range(m+1, data2[1].size):\n",
    "            bi = data.values[data[1] == data2[0][m]][0][5]\n",
    "            bj = data.values[data[1] == data2[0][n]][0][5]\n",
    "            xdist = data2[1][n] - data2[1][m]\n",
    "            ydist = data2[2][n] - data2[2][m]\n",
    "            zdist = data2[3][n] - data2[3][m]\n",
    "            r_mn = np.sqrt(np.square(xdist) + np.square(ydist) + np.square(zdist))\n",
    "            intensity[e] += bi * bj * np.sin(\n",
    "                r_mn * q) / (r_mn * q)\n",
    "    if intensity[e] < 0:\n",
    "        intensity[e] = 0"
   ]
  },
  {
   "cell_type": "code",
   "execution_count": 31,
   "metadata": {},
   "outputs": [
    {
     "data": {
      "image/png": "[encoded data removed]",
      "text/plain": [
       "<Figure size 432x288 with 1 Axes>"
      ]
     },
     "metadata": {
      "needs_background": "light"
     },
     "output_type": "display_data"
    }
   ],
   "source": [
    "import matplotlib.pyplot as plt\n",
    "\n",
    "plt.plot(qs, intensity)\n",
    "plt.show()"
   ]
  },
  {
   "cell_type": "code",
   "execution_count": 37,
   "metadata": {},
   "outputs": [],
   "source": [
    "file_open = open('fake_data.txt', 'w')"
   ]
  },
  {
   "cell_type": "code",
   "execution_count": 38,
   "metadata": {},
   "outputs": [],
   "source": [
    "for i in range(qs.size):\n",
    "    if intensity[i] != 0:\n",
    "        file_open.write('{} {} {}\\n'.format(qs[i], intensity[i], intensity[i]*0.0001))"
   ]
  },
  {
   "cell_type": "code",
   "execution_count": 39,
   "metadata": {},
   "outputs": [],
   "source": [
    "file_open.close()"
   ]
  },
  {
   "cell_type": "code",
   "execution_count": 36,
   "metadata": {},
   "outputs": [
    {
     "data": {
      "text/plain": [
       "array([5.67285786e+04, 4.43011000e+04, 3.35633125e+04, 2.46682831e+04,\n",
       "       1.76603665e+04, 1.24829359e+04, 8.99196571e+03, 6.97414751e+03,\n",
       "       6.16796411e+03, 6.28601880e+03, 7.03693107e+03, 8.14525154e+03,\n",
       "       9.36810448e+03, 1.05076081e+04, 1.14185195e+04, 1.20109663e+04,\n",
       "       1.22485278e+04, 1.21422781e+04, 1.17416829e+04, 1.11234227e+04,\n",
       "       1.03792960e+04, 9.60433427e+03, 8.88613858e+03, 8.29625451e+03,\n",
       "       7.88414734e+03, 7.67405734e+03, 7.66473001e+03, 7.83175349e+03,\n",
       "       8.13201892e+03, 8.50966425e+03, 8.90277871e+03, 9.25013663e+03,\n",
       "       9.49729045e+03, 9.60147340e+03, 9.53492631e+03, 9.28645233e+03,\n",
       "       8.86119663e+03, 8.27882744e+03, 7.57044269e+03, 6.77463055e+03,\n",
       "       5.93316504e+03, 5.08681745e+03, 4.27171413e+03, 3.51657940e+03,\n",
       "       2.84108133e+03, 2.25536168e+03, 1.76069518e+03, 1.35110120e+03,\n",
       "       1.01563561e+03, 7.41030407e+02, 5.14328351e+02, 3.25180203e+02,\n",
       "       1.67528399e+02, 4.04862888e+01, 0.00000000e+00, 0.00000000e+00,\n",
       "       0.00000000e+00, 0.00000000e+00, 1.26123459e+02, 3.56222029e+02,\n",
       "       6.67365375e+02, 1.05128283e+03, 1.49154295e+03, 1.96391657e+03,\n",
       "       2.43766649e+03, 2.87766920e+03, 3.24718209e+03, 3.51099728e+03,\n",
       "       3.63867684e+03, 3.60754884e+03, 3.40516113e+03, 3.03093673e+03,\n",
       "       2.49684857e+03, 1.82702229e+03, 1.05627646e+03, 2.27709961e+02,\n",
       "       0.00000000e+00, 0.00000000e+00, 0.00000000e+00, 0.00000000e+00,\n",
       "       0.00000000e+00, 0.00000000e+00, 0.00000000e+00, 0.00000000e+00,\n",
       "       0.00000000e+00, 0.00000000e+00, 0.00000000e+00, 0.00000000e+00,\n",
       "       0.00000000e+00, 0.00000000e+00, 1.28131991e+02, 4.86961460e+02,\n",
       "       7.18053408e+02, 8.11950980e+02, 7.70502951e+02, 6.06092454e+02,\n",
       "       3.40024906e+02, 2.46404384e-01, 0.00000000e+00, 0.00000000e+00])"
      ]
     },
     "execution_count": 36,
     "metadata": {},
     "output_type": "execute_result"
    }
   ],
   "source": [
    "intensity"
   ]
  },
  {
   "cell_type": "code",
   "execution_count": 41,
   "metadata": {},
   "outputs": [],
   "source": [
    "ll = np.array([[56728.578125, 0.100000],\n",
    "[52099.503906, 0.109091],\n",
    "[48208.140625, 0.118182],\n",
    "[45013.953125, 0.127273],\n",
    "[42433.273438, 0.136364],\n",
    "[40354.890625, 0.145455],\n",
    "[38655.648438, 0.154545],\n",
    "[37215.003906, 0.163636],\n",
    "[35926.703125, 0.172727],\n",
    "[34706.824219, 0.181818],\n",
    "[33497.984375, 0.190909],\n",
    "[32269.730469, 0.200000],\n",
    "[31015.648438, 0.209091],\n",
    "[29748.394531, 0.218182],\n",
    "[28493.355469, 0.227273],\n",
    "[27282.142578, 0.236364],\n",
    "[26146.587891, 0.245455],\n",
    "[25114.136719, 0.254545],\n",
    "[24204.576172, 0.263636],\n",
    "[23428.482422, 0.272727],\n",
    "[22787.187500, 0.281818],\n",
    "[22273.648438, 0.290909],\n",
    "[21874.232422, 0.300000],\n",
    "[21570.787109, 0.309091],\n",
    "[21342.703125, 0.318182],\n",
    "[21168.769531, 0.327273],\n",
    "[21028.656250, 0.336364],\n",
    "[20904.101562, 0.345455],\n",
    "[20779.654297, 0.354545],\n",
    "[20643.181641, 0.363636],\n",
    "[20486.177734, 0.372727],\n",
    "[20303.900391, 0.381818],\n",
    "[20095.384766, 0.390909],\n",
    "[19863.242188, 0.400000],\n",
    "[19613.384766, 0.409091],\n",
    "[19354.429688, 0.418182],\n",
    "[19096.945312, 0.427273],\n",
    "[18852.542969, 0.436364],\n",
    "[18632.748047, 0.445455],\n",
    "[18447.947266, 0.454545],\n",
    "[18306.363281, 0.463636],\n",
    "[18213.263672, 0.472727],\n",
    "[18170.457031, 0.481818],\n",
    "[18176.179688, 0.490909],\n",
    "[18225.298828, 0.500000],\n",
    "[18309.865234, 0.509091],\n",
    "[18419.886719, 0.518182],\n",
    "[18544.218750, 0.527273],\n",
    "[18671.392578, 0.536364],\n",
    "[18790.417969, 0.545455],\n",
    "[18891.291016, 0.554545],\n",
    "[18965.373047, 0.563636],\n",
    "[19005.460938, 0.572727],\n",
    "[19005.796875, 0.581818],\n",
    "[18298.062500, 0.627273],\n",
    "[18009.902344, 0.636364],\n",
    "[17678.689453, 0.645455],\n",
    "[17311.005859, 0.654545],\n",
    "[16915.777344, 0.663636],\n",
    "[16504.142578, 0.672727],\n",
    "[16089.097656, 0.681818],\n",
    "[15684.899414, 0.690909],\n",
    "[15306.214844, 0.700000],\n",
    "[14967.164062, 0.709091],\n",
    "[14680.354492, 0.718182],\n",
    "[14455.899414, 0.727273],\n",
    "[14300.687500, 0.736364],\n",
    "[14217.801758, 0.745455],\n",
    "[14206.298828, 0.754545],\n",
    "[14261.271484, 0.763636],\n",
    "[14374.182617, 0.772727],\n",
    "[14533.459961, 0.781818],\n",
    "[14691.379883, 0.918182],\n",
    "[14452.105469, 0.927273],\n",
    "[14224.655273, 0.936364],\n",
    "[14018.753906, 0.945455],\n",
    "[13842.067383, 0.954545],\n",
    "[13699.758789, 0.963636],\n",
    "[13594.277344, 0.972727],\n",
    "[13525.424805, 0.981818]])"
   ]
  },
  {
   "cell_type": "code",
   "execution_count": 43,
   "metadata": {},
   "outputs": [
    {
     "data": {
      "image/png": "[encoded data removed]",
      "text/plain": [
       "<Figure size 432x288 with 1 Axes>"
      ]
     },
     "metadata": {
      "needs_background": "light"
     },
     "output_type": "display_data"
    }
   ],
   "source": [
    "plt.plot(ll[:, 1], ll[:, 0])\n",
    "plt.plot(qs, intensity)\n",
    "\n",
    "\n",
    "plt.show()"
   ]
  },
  {
   "cell_type": "code",
   "execution_count": null,
   "metadata": {},
   "outputs": [],
   "source": []
  }
 ],
 "metadata": {
  "kernelspec": {
   "display_name": "Python 3",
   "language": "python",
   "name": "python3"
  },
  "language_info": {
   "codemirror_mode": {
    "name": "ipython",
    "version": 3
   },
   "file_extension": ".py",
   "mimetype": "text/x-python",
   "name": "python",
   "nbconvert_exporter": "python",
   "pygments_lexer": "ipython3",
   "version": "3.7.2"
  }
 },
 "nbformat": 4,
 "nbformat_minor": 2
}
