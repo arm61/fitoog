{
 "cells": [
  {
   "cell_type": "code",
   "execution_count": 1,
   "metadata": {},
   "outputs": [],
   "source": [
    "import pandas as pd"
   ]
  },
  {
   "cell_type": "code",
   "execution_count": 2,
   "metadata": {},
   "outputs": [],
   "source": [
    "data = pd.read_csv('cta_mar.fit', delim_whitespace=True, header=None)"
   ]
  },
  {
   "cell_type": "code",
   "execution_count": 3,
   "metadata": {},
   "outputs": [
    {
     "data": {
      "text/html": [
       "<div>\n",
       "<style scoped>\n",
       "    .dataframe tbody tr th:only-of-type {\n",
       "        vertical-align: middle;\n",
       "    }\n",
       "\n",
       "    .dataframe tbody tr th {\n",
       "        vertical-align: top;\n",
       "    }\n",
       "\n",
       "    .dataframe thead th {\n",
       "        text-align: right;\n",
       "    }\n",
       "</style>\n",
       "<table border=\"1\" class=\"dataframe\">\n",
       "  <thead>\n",
       "    <tr style=\"text-align: right;\">\n",
       "      <th></th>\n",
       "      <th>0</th>\n",
       "      <th>1</th>\n",
       "      <th>2</th>\n",
       "      <th>3</th>\n",
       "      <th>4</th>\n",
       "      <th>5</th>\n",
       "    </tr>\n",
       "  </thead>\n",
       "  <tbody>\n",
       "    <tr>\n",
       "      <th>0</th>\n",
       "      <td>0</td>\n",
       "      <td>N</td>\n",
       "      <td>-4.49830</td>\n",
       "      <td>-0.90118</td>\n",
       "      <td>4.49948</td>\n",
       "      <td>59.112</td>\n",
       "    </tr>\n",
       "    <tr>\n",
       "      <th>1</th>\n",
       "      <td>1</td>\n",
       "      <td>C</td>\n",
       "      <td>-1.80563</td>\n",
       "      <td>0.04058</td>\n",
       "      <td>1.79780</td>\n",
       "      <td>47.093</td>\n",
       "    </tr>\n",
       "    <tr>\n",
       "      <th>2</th>\n",
       "      <td>2</td>\n",
       "      <td>C</td>\n",
       "      <td>0.82445</td>\n",
       "      <td>-0.78343</td>\n",
       "      <td>-0.93130</td>\n",
       "      <td>47.093</td>\n",
       "    </tr>\n",
       "    <tr>\n",
       "      <th>3</th>\n",
       "      <td>3</td>\n",
       "      <td>C</td>\n",
       "      <td>3.76339</td>\n",
       "      <td>-0.09161</td>\n",
       "      <td>-3.36093</td>\n",
       "      <td>47.093</td>\n",
       "    </tr>\n",
       "  </tbody>\n",
       "</table>\n",
       "</div>"
      ],
      "text/plain": [
       "   0  1        2        3        4       5\n",
       "0  0  N -4.49830 -0.90118  4.49948  59.112\n",
       "1  1  C -1.80563  0.04058  1.79780  47.093\n",
       "2  2  C  0.82445 -0.78343 -0.93130  47.093\n",
       "3  3  C  3.76339 -0.09161 -3.36093  47.093"
      ]
     },
     "execution_count": 3,
     "metadata": {},
     "output_type": "execute_result"
    }
   ],
   "source": [
    "data"
   ]
  },
  {
   "cell_type": "code",
   "execution_count": 4,
   "metadata": {},
   "outputs": [],
   "source": [
    "data[2] = data[2] - data[2].min()\n",
    "data[3] = data[3] - data[3].min()\n",
    "data[4] = data[4] - data[4].min()"
   ]
  },
  {
   "cell_type": "code",
   "execution_count": 5,
   "metadata": {},
   "outputs": [
    {
     "data": {
      "text/html": [
       "<div>\n",
       "<style scoped>\n",
       "    .dataframe tbody tr th:only-of-type {\n",
       "        vertical-align: middle;\n",
       "    }\n",
       "\n",
       "    .dataframe tbody tr th {\n",
       "        vertical-align: top;\n",
       "    }\n",
       "\n",
       "    .dataframe thead th {\n",
       "        text-align: right;\n",
       "    }\n",
       "</style>\n",
       "<table border=\"1\" class=\"dataframe\">\n",
       "  <thead>\n",
       "    <tr style=\"text-align: right;\">\n",
       "      <th></th>\n",
       "      <th>0</th>\n",
       "      <th>1</th>\n",
       "      <th>2</th>\n",
       "      <th>3</th>\n",
       "      <th>4</th>\n",
       "      <th>5</th>\n",
       "    </tr>\n",
       "  </thead>\n",
       "  <tbody>\n",
       "    <tr>\n",
       "      <th>0</th>\n",
       "      <td>0</td>\n",
       "      <td>N</td>\n",
       "      <td>0.00000</td>\n",
       "      <td>0.00000</td>\n",
       "      <td>7.86041</td>\n",
       "      <td>59.112</td>\n",
       "    </tr>\n",
       "    <tr>\n",
       "      <th>1</th>\n",
       "      <td>1</td>\n",
       "      <td>C</td>\n",
       "      <td>2.69267</td>\n",
       "      <td>0.94176</td>\n",
       "      <td>5.15873</td>\n",
       "      <td>47.093</td>\n",
       "    </tr>\n",
       "    <tr>\n",
       "      <th>2</th>\n",
       "      <td>2</td>\n",
       "      <td>C</td>\n",
       "      <td>5.32275</td>\n",
       "      <td>0.11775</td>\n",
       "      <td>2.42963</td>\n",
       "      <td>47.093</td>\n",
       "    </tr>\n",
       "    <tr>\n",
       "      <th>3</th>\n",
       "      <td>3</td>\n",
       "      <td>C</td>\n",
       "      <td>8.26169</td>\n",
       "      <td>0.80957</td>\n",
       "      <td>0.00000</td>\n",
       "      <td>47.093</td>\n",
       "    </tr>\n",
       "  </tbody>\n",
       "</table>\n",
       "</div>"
      ],
      "text/plain": [
       "   0  1        2        3        4       5\n",
       "0  0  N  0.00000  0.00000  7.86041  59.112\n",
       "1  1  C  2.69267  0.94176  5.15873  47.093\n",
       "2  2  C  5.32275  0.11775  2.42963  47.093\n",
       "3  3  C  8.26169  0.80957  0.00000  47.093"
      ]
     },
     "execution_count": 5,
     "metadata": {},
     "output_type": "execute_result"
    }
   ],
   "source": [
    "data"
   ]
  },
  {
   "cell_type": "code",
   "execution_count": 6,
   "metadata": {},
   "outputs": [],
   "source": [
    "import numpy as np\n",
    "\n",
    "def rotation(a, b, c, d, e, f, data):\n",
    "    l = np.sin(a) * np.cos(b)\n",
    "    m = np.sin(a) * np.sin(b)\n",
    "    n = np.cos(a)\n",
    "    k = c\n",
    "    rm = np.zeros((3,3))\n",
    "    rm[0][0] = l * l + (m * m + n * n) * np.cos(k)\n",
    "    rm[0][1] = l * m * (1 - np.cos(k)) - n * np.sin(k)\n",
    "    rm[0][2] = n * l * (1 - np.cos(k)) + m * np.sin(k)\n",
    "    rm[1][0] = l * m * (1 - np.cos(k)) + n * np.sin(k)\n",
    "    rm[1][1] = m * m + (n * n + l * l) * np.cos(k)\n",
    "    rm[1][2] = m * n * (1 - np.cos(k)) - l * np.sin(k)\n",
    "    rm[2][0] = n * l * (1 - np.cos(k)) - m * np.sin(k)\n",
    "    rm[2][1] = m * n * (1 - np.cos(k)) + l * np.sin(k)\n",
    "    rm[2][2] = n * n + (l * l + m * m) * np.cos(k)\n",
    "    x = rm[0][0] * data[2] + rm[0][1] * data[3] + rm[0][2] * data[4] + d\n",
    "    y = rm[1][0] * data[2] + rm[1][1] * data[3] + rm[1][2] * data[4] + e \n",
    "    z = rm[2][0] * data[2] + rm[2][1] * data[3] + rm[2][2] * data[4] + f\n",
    "    return x, y, z"
   ]
  },
  {
   "cell_type": "code",
   "execution_count": 7,
   "metadata": {},
   "outputs": [],
   "source": [
    "file_open = open('output.xyz', 'w')\n",
    "file_open.write('16\\n#comment\\n')\n",
    "d = [0, 0, 0, 20]\n",
    "e = [0, 20, 20, 20]\n",
    "f = [0, 0, 20, 20]\n",
    "\n",
    "for l, i in enumerate(np.linspace(0, 2 * np.pi, 4)):\n",
    "    k = rotation(np.pi, np.pi, i, d[l], e[l], f[l], data)\n",
    "    for j in range(0, 4):\n",
    "        file_open.write('{} {} {} {}\\n'.format(data[1][j], k[0][j], k[1][j], k[2][j]))\n",
    "file_open.close()"
   ]
  },
  {
   "cell_type": "code",
   "execution_count": 8,
   "metadata": {},
   "outputs": [],
   "source": [
    "data2 = pd.read_csv('output.xyz', delim_whitespace=True, header=None, skiprows=2)"
   ]
  },
  {
   "cell_type": "code",
   "execution_count": 9,
   "metadata": {},
   "outputs": [],
   "source": [
    "data2[1] = data2[1] - data2[1].min()\n",
    "data2[2] = data2[2] - data2[2].min()\n",
    "data2[3] = data2[3] - data2[3].min()"
   ]
  },
  {
   "cell_type": "code",
   "execution_count": 10,
   "metadata": {},
   "outputs": [
    {
     "data": {
      "text/html": [
       "<div>\n",
       "<style scoped>\n",
       "    .dataframe tbody tr th:only-of-type {\n",
       "        vertical-align: middle;\n",
       "    }\n",
       "\n",
       "    .dataframe tbody tr th {\n",
       "        vertical-align: top;\n",
       "    }\n",
       "\n",
       "    .dataframe thead th {\n",
       "        text-align: right;\n",
       "    }\n",
       "</style>\n",
       "<table border=\"1\" class=\"dataframe\">\n",
       "  <thead>\n",
       "    <tr style=\"text-align: right;\">\n",
       "      <th></th>\n",
       "      <th>0</th>\n",
       "      <th>1</th>\n",
       "      <th>2</th>\n",
       "      <th>3</th>\n",
       "    </tr>\n",
       "  </thead>\n",
       "  <tbody>\n",
       "    <tr>\n",
       "      <th>0</th>\n",
       "      <td>N</td>\n",
       "      <td>4.831953</td>\n",
       "      <td>0.000000</td>\n",
       "      <td>7.860410e+00</td>\n",
       "    </tr>\n",
       "    <tr>\n",
       "      <th>1</th>\n",
       "      <td>C</td>\n",
       "      <td>7.524623</td>\n",
       "      <td>0.941760</td>\n",
       "      <td>5.158730e+00</td>\n",
       "    </tr>\n",
       "    <tr>\n",
       "      <th>2</th>\n",
       "      <td>C</td>\n",
       "      <td>10.154703</td>\n",
       "      <td>0.117750</td>\n",
       "      <td>2.429630e+00</td>\n",
       "    </tr>\n",
       "    <tr>\n",
       "      <th>3</th>\n",
       "      <td>C</td>\n",
       "      <td>13.093643</td>\n",
       "      <td>0.809570</td>\n",
       "      <td>0.000000e+00</td>\n",
       "    </tr>\n",
       "    <tr>\n",
       "      <th>4</th>\n",
       "      <td>N</td>\n",
       "      <td>4.831953</td>\n",
       "      <td>20.000000</td>\n",
       "      <td>7.860410e+00</td>\n",
       "    </tr>\n",
       "    <tr>\n",
       "      <th>5</th>\n",
       "      <td>C</td>\n",
       "      <td>4.301206</td>\n",
       "      <td>17.197199</td>\n",
       "      <td>5.158730e+00</td>\n",
       "    </tr>\n",
       "    <tr>\n",
       "      <th>6</th>\n",
       "      <td>C</td>\n",
       "      <td>2.272553</td>\n",
       "      <td>15.331488</td>\n",
       "      <td>2.429630e+00</td>\n",
       "    </tr>\n",
       "    <tr>\n",
       "      <th>7</th>\n",
       "      <td>C</td>\n",
       "      <td>1.402216</td>\n",
       "      <td>12.440382</td>\n",
       "      <td>1.431787e-15</td>\n",
       "    </tr>\n",
       "    <tr>\n",
       "      <th>8</th>\n",
       "      <td>N</td>\n",
       "      <td>4.831953</td>\n",
       "      <td>20.000000</td>\n",
       "      <td>2.786041e+01</td>\n",
       "    </tr>\n",
       "    <tr>\n",
       "      <th>9</th>\n",
       "      <td>C</td>\n",
       "      <td>2.670030</td>\n",
       "      <td>21.861041</td>\n",
       "      <td>2.515873e+01</td>\n",
       "    </tr>\n",
       "    <tr>\n",
       "      <th>10</th>\n",
       "      <td>C</td>\n",
       "      <td>2.068604</td>\n",
       "      <td>24.550762</td>\n",
       "      <td>2.242963e+01</td>\n",
       "    </tr>\n",
       "    <tr>\n",
       "      <th>11</th>\n",
       "      <td>C</td>\n",
       "      <td>0.000000</td>\n",
       "      <td>26.750048</td>\n",
       "      <td>2.000000e+01</td>\n",
       "    </tr>\n",
       "    <tr>\n",
       "      <th>12</th>\n",
       "      <td>N</td>\n",
       "      <td>24.831953</td>\n",
       "      <td>20.000000</td>\n",
       "      <td>2.786041e+01</td>\n",
       "    </tr>\n",
       "    <tr>\n",
       "      <th>13</th>\n",
       "      <td>C</td>\n",
       "      <td>27.524623</td>\n",
       "      <td>20.941760</td>\n",
       "      <td>2.515873e+01</td>\n",
       "    </tr>\n",
       "    <tr>\n",
       "      <th>14</th>\n",
       "      <td>C</td>\n",
       "      <td>30.154703</td>\n",
       "      <td>20.117750</td>\n",
       "      <td>2.242963e+01</td>\n",
       "    </tr>\n",
       "    <tr>\n",
       "      <th>15</th>\n",
       "      <td>C</td>\n",
       "      <td>33.093643</td>\n",
       "      <td>20.809570</td>\n",
       "      <td>2.000000e+01</td>\n",
       "    </tr>\n",
       "  </tbody>\n",
       "</table>\n",
       "</div>"
      ],
      "text/plain": [
       "    0          1          2             3\n",
       "0   N   4.831953   0.000000  7.860410e+00\n",
       "1   C   7.524623   0.941760  5.158730e+00\n",
       "2   C  10.154703   0.117750  2.429630e+00\n",
       "3   C  13.093643   0.809570  0.000000e+00\n",
       "4   N   4.831953  20.000000  7.860410e+00\n",
       "5   C   4.301206  17.197199  5.158730e+00\n",
       "6   C   2.272553  15.331488  2.429630e+00\n",
       "7   C   1.402216  12.440382  1.431787e-15\n",
       "8   N   4.831953  20.000000  2.786041e+01\n",
       "9   C   2.670030  21.861041  2.515873e+01\n",
       "10  C   2.068604  24.550762  2.242963e+01\n",
       "11  C   0.000000  26.750048  2.000000e+01\n",
       "12  N  24.831953  20.000000  2.786041e+01\n",
       "13  C  27.524623  20.941760  2.515873e+01\n",
       "14  C  30.154703  20.117750  2.242963e+01\n",
       "15  C  33.093643  20.809570  2.000000e+01"
      ]
     },
     "execution_count": 10,
     "metadata": {},
     "output_type": "execute_result"
    }
   ],
   "source": [
    "data2"
   ]
  },
  {
   "cell_type": "code",
   "execution_count": 23,
   "metadata": {},
   "outputs": [
    {
     "data": {
      "text/plain": [
       "array([0.001     , 0.0060404 , 0.01108081, 0.01612121, 0.02116162,\n",
       "       0.02620202, 0.03124242, 0.03628283, 0.04132323, 0.04636364,\n",
       "       0.05140404, 0.05644444, 0.06148485, 0.06652525, 0.07156566,\n",
       "       0.07660606, 0.08164646, 0.08668687, 0.09172727, 0.09676768,\n",
       "       0.10180808, 0.10684848, 0.11188889, 0.11692929, 0.1219697 ,\n",
       "       0.1270101 , 0.13205051, 0.13709091, 0.14213131, 0.14717172,\n",
       "       0.15221212, 0.15725253, 0.16229293, 0.16733333, 0.17237374,\n",
       "       0.17741414, 0.18245455, 0.18749495, 0.19253535, 0.19757576,\n",
       "       0.20261616, 0.20765657, 0.21269697, 0.21773737, 0.22277778,\n",
       "       0.22781818, 0.23285859, 0.23789899, 0.24293939, 0.2479798 ,\n",
       "       0.2530202 , 0.25806061, 0.26310101, 0.26814141, 0.27318182,\n",
       "       0.27822222, 0.28326263, 0.28830303, 0.29334343, 0.29838384,\n",
       "       0.30342424, 0.30846465, 0.31350505, 0.31854545, 0.32358586,\n",
       "       0.32862626, 0.33366667, 0.33870707, 0.34374747, 0.34878788,\n",
       "       0.35382828, 0.35886869, 0.36390909, 0.36894949, 0.3739899 ,\n",
       "       0.3790303 , 0.38407071, 0.38911111, 0.39415152, 0.39919192,\n",
       "       0.40423232, 0.40927273, 0.41431313, 0.41935354, 0.42439394,\n",
       "       0.42943434, 0.43447475, 0.43951515, 0.44455556, 0.44959596,\n",
       "       0.45463636, 0.45967677, 0.46471717, 0.46975758, 0.47479798,\n",
       "       0.47983838, 0.48487879, 0.48991919, 0.4949596 , 0.5       ])"
      ]
     },
     "execution_count": 23,
     "metadata": {},
     "output_type": "execute_result"
    }
   ],
   "source": [
    "qs = np.linspace(0.001, 0.5, 100)\n",
    "qs"
   ]
  },
  {
   "cell_type": "code",
   "execution_count": 24,
   "metadata": {
    "scrolled": true
   },
   "outputs": [
    {
     "name": "stdout",
     "output_type": "stream",
     "text": [
      "N\n"
     ]
    }
   ],
   "source": [
    "print(data2[0][0])"
   ]
  },
  {
   "cell_type": "code",
   "execution_count": 25,
   "metadata": {},
   "outputs": [],
   "source": [
    "intensity = np.zeros_like(qs)\n",
    "for e, q in enumerate(qs):\n",
    "    for m in range(0, data2[1].size-1):\n",
    "        for n in range(m+1, data2[1].size):\n",
    "            bi = data.values[data[1] == data2[0][m]][0][5]\n",
    "            bj = data.values[data[1] == data2[0][n]][0][5]\n",
    "            xdist = data2[1][n] - data2[1][m]\n",
    "            ydist = data2[2][n] - data2[2][m]\n",
    "            zdist = data2[3][n] - data2[3][m]\n",
    "            r_mn = np.sqrt(np.square(xdist) + np.square(ydist) + np.square(zdist))\n",
    "            intensity[e] += bi * bj * np.sin(\n",
    "                r_mn * q) / (r_mn * q)\n",
    "    if intensity[e] < 0:\n",
    "        intensity[e] = 0"
   ]
  },
  {
   "cell_type": "code",
   "execution_count": 26,
   "metadata": {},
   "outputs": [
    {
     "data": {
      "image/png": "[encoded data removed]",
      "text/plain": [
       "<Figure size 432x288 with 1 Axes>"
      ]
     },
     "metadata": {
      "needs_background": "light"
     },
     "output_type": "display_data"
    }
   ],
   "source": [
    "import matplotlib.pyplot as plt\n",
    "\n",
    "plt.plot(qs, intensity)\n",
    "plt.show()"
   ]
  },
  {
   "cell_type": "code",
   "execution_count": 32,
   "metadata": {},
   "outputs": [],
   "source": [
    "file_open = open('fake_data.txt', 'w')"
   ]
  },
  {
   "cell_type": "code",
   "execution_count": 33,
   "metadata": {},
   "outputs": [
    {
     "data": {
      "text/plain": [
       "7"
      ]
     },
     "execution_count": 33,
     "metadata": {},
     "output_type": "execute_result"
    }
   ],
   "source": [
    "file_open.write('q I dI\\n')"
   ]
  },
  {
   "cell_type": "code",
   "execution_count": 34,
   "metadata": {},
   "outputs": [],
   "source": [
    "for i in range(qs.size):\n",
    "    file_open.write('{} {} {}\\n'.format(qs[i], intensity[i], intensity[i]*0.0001))"
   ]
  },
  {
   "cell_type": "code",
   "execution_count": 35,
   "metadata": {},
   "outputs": [],
   "source": [
    "file_open.close()"
   ]
  },
  {
   "cell_type": "code",
   "execution_count": null,
   "metadata": {},
   "outputs": [],
   "source": []
  }
 ],
 "metadata": {
  "kernelspec": {
   "display_name": "Python 3",
   "language": "python",
   "name": "python3"
  },
  "language_info": {
   "codemirror_mode": {
    "name": "ipython",
    "version": 3
   },
   "file_extension": ".py",
   "mimetype": "text/x-python",
   "name": "python",
   "nbconvert_exporter": "python",
   "pygments_lexer": "ipython3",
   "version": "3.7.2"
  }
 },
 "nbformat": 4,
 "nbformat_minor": 2
}
